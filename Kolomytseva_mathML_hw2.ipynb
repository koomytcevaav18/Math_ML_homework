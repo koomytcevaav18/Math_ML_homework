{
  "cells": [
    {
      "cell_type": "markdown",
      "metadata": {
        "id": "NyHIGVhfa_Wf"
      },
      "source": [
        "# Стохастический градиентный и координатный спуски"
      ]
    },
    {
      "cell_type": "markdown",
      "metadata": {
        "id": "gn6lluIADUKa"
      },
      "source": [
        "Для каждого задания указано количество баллов (если они оцениваются отдельно) + 1 балл за аккуратное и полное выполнение всего задания"
      ]
    },
    {
      "cell_type": "code",
      "execution_count": 1,
      "metadata": {},
      "outputs": [],
      "source": [
        "# импортируем библиотеки\n",
        "import numpy as np \n",
        "import pandas as pd \n",
        "import seaborn as sns \n",
        "import matplotlib.pyplot as plt \n",
        "from sklearn import *\n",
        "%matplotlib inline"
      ]
    },
    {
      "cell_type": "markdown",
      "metadata": {
        "id": "txCccYvha_Wv"
      },
      "source": [
        "## Загрузка и подготовка данных"
      ]
    },
    {
      "cell_type": "markdown",
      "metadata": {
        "id": "NbyOzeZ6a_Wx"
      },
      "source": [
        "**Загрузите уже знакомый вам файл *Advertising.csv* как объект DataFrame.** "
      ]
    },
    {
      "cell_type": "code",
      "execution_count": 2,
      "metadata": {
        "id": "E1L4_xeDa_Wz"
      },
      "outputs": [
        {
          "data": {
            "text/html": [
              "<div>\n",
              "<style scoped>\n",
              "    .dataframe tbody tr th:only-of-type {\n",
              "        vertical-align: middle;\n",
              "    }\n",
              "\n",
              "    .dataframe tbody tr th {\n",
              "        vertical-align: top;\n",
              "    }\n",
              "\n",
              "    .dataframe thead th {\n",
              "        text-align: right;\n",
              "    }\n",
              "</style>\n",
              "<table border=\"1\" class=\"dataframe\">\n",
              "  <thead>\n",
              "    <tr style=\"text-align: right;\">\n",
              "      <th></th>\n",
              "      <th>TV</th>\n",
              "      <th>radio</th>\n",
              "      <th>newspaper</th>\n",
              "      <th>sales</th>\n",
              "    </tr>\n",
              "  </thead>\n",
              "  <tbody>\n",
              "    <tr>\n",
              "      <th>0</th>\n",
              "      <td>230.1</td>\n",
              "      <td>37.8</td>\n",
              "      <td>69.2</td>\n",
              "      <td>22.1</td>\n",
              "    </tr>\n",
              "    <tr>\n",
              "      <th>1</th>\n",
              "      <td>44.5</td>\n",
              "      <td>39.3</td>\n",
              "      <td>45.1</td>\n",
              "      <td>10.4</td>\n",
              "    </tr>\n",
              "    <tr>\n",
              "      <th>2</th>\n",
              "      <td>17.2</td>\n",
              "      <td>45.9</td>\n",
              "      <td>69.3</td>\n",
              "      <td>9.3</td>\n",
              "    </tr>\n",
              "    <tr>\n",
              "      <th>3</th>\n",
              "      <td>151.5</td>\n",
              "      <td>41.3</td>\n",
              "      <td>58.5</td>\n",
              "      <td>18.5</td>\n",
              "    </tr>\n",
              "    <tr>\n",
              "      <th>4</th>\n",
              "      <td>180.8</td>\n",
              "      <td>10.8</td>\n",
              "      <td>58.4</td>\n",
              "      <td>12.9</td>\n",
              "    </tr>\n",
              "  </tbody>\n",
              "</table>\n",
              "</div>"
            ],
            "text/plain": [
              "      TV  radio  newspaper  sales\n",
              "0  230.1   37.8       69.2   22.1\n",
              "1   44.5   39.3       45.1   10.4\n",
              "2   17.2   45.9       69.3    9.3\n",
              "3  151.5   41.3       58.5   18.5\n",
              "4  180.8   10.8       58.4   12.9"
            ]
          },
          "execution_count": 2,
          "metadata": {},
          "output_type": "execute_result"
        }
      ],
      "source": [
        "#откроем данные\n",
        "data = pd.read_csv('Advertising.csv')\n",
        "data = data.drop('Unnamed: 0', axis=1)\n",
        "data.head()"
      ]
    },
    {
      "cell_type": "markdown",
      "metadata": {
        "id": "bf4aVFndDUKf"
      },
      "source": [
        "**Проверьте, есть ли в данных пропуски и, если они есть - удалите их**"
      ]
    },
    {
      "cell_type": "code",
      "execution_count": 3,
      "metadata": {
        "id": "tiVeFnR5DUKg"
      },
      "outputs": [
        {
          "name": "stdout",
          "output_type": "stream",
          "text": [
            "<class 'pandas.core.frame.DataFrame'>\n",
            "RangeIndex: 200 entries, 0 to 199\n",
            "Data columns (total 4 columns):\n",
            " #   Column     Non-Null Count  Dtype  \n",
            "---  ------     --------------  -----  \n",
            " 0   TV         200 non-null    float64\n",
            " 1   radio      200 non-null    float64\n",
            " 2   newspaper  200 non-null    float64\n",
            " 3   sales      200 non-null    float64\n",
            "dtypes: float64(4)\n",
            "memory usage: 6.4 KB\n"
          ]
        }
      ],
      "source": [
        "data.info()"
      ]
    },
    {
      "cell_type": "markdown",
      "metadata": {},
      "source": [
        "В данных нет пропусков"
      ]
    },
    {
      "cell_type": "markdown",
      "metadata": {
        "id": "rTkiqPr_DUKh"
      },
      "source": [
        "**Преобразуйте ваши признаки в массивы NumPy и разделите их на переменные X (предикторы) и y(целевая переменная)** "
      ]
    },
    {
      "cell_type": "code",
      "execution_count": 4,
      "metadata": {
        "id": "R9OHIRB3a_Xa"
      },
      "outputs": [],
      "source": [
        "# матрица наблюдений X, вектор реальных значений целевой переменной y\n",
        "X = np.array(data.drop('sales', axis=1))\n",
        "y = np.array(data['sales']).reshape(200, 1)"
      ]
    },
    {
      "cell_type": "markdown",
      "metadata": {
        "id": "KCvjSoHEDUKo"
      },
      "source": [
        "## Координатный спуск (3 балла)"
      ]
    },
    {
      "cell_type": "markdown",
      "metadata": {
        "id": "yjNm8dATDUKq"
      },
      "source": [
        "**Добавим единичный столбец для того, чтобы у нас был свободный коэффициент в уравнении регрессии:**"
      ]
    },
    {
      "cell_type": "code",
      "execution_count": 5,
      "metadata": {
        "id": "LMgq0fmKDUKr"
      },
      "outputs": [],
      "source": [
        "X = np.hstack([np.ones(X.shape[0]).reshape(-1, 1), X])"
      ]
    },
    {
      "cell_type": "markdown",
      "metadata": {
        "id": "R008OQwcDUKt"
      },
      "source": [
        "**Нормализуем данные: обычно это необходимо для корректной работы алгоритма**"
      ]
    },
    {
      "cell_type": "code",
      "execution_count": 6,
      "metadata": {
        "id": "2Sk7Wx-SDUKt"
      },
      "outputs": [],
      "source": [
        "X = X / np.sqrt(np.sum(np.square(X), axis=0))"
      ]
    },
    {
      "cell_type": "markdown",
      "metadata": {
        "id": "F_pHHbAdDUKu"
      },
      "source": [
        "**Реализуйте алгоритм координатного спуска:** (3 балла)\n",
        "\n",
        "Ниже приведен алгоритм:"
      ]
    },
    {
      "cell_type": "markdown",
      "metadata": {
        "id": "jBQ8vT5UDUKu"
      },
      "source": [
        "<a href=\"https://ibb.co/Th3BQFn\"><img src=\"https://i.ibb.co/DK2DBS6/zascas.jpg\" alt=\"zascas\" border=\"0\"></a>"
      ]
    },
    {
      "cell_type": "markdown",
      "metadata": {
        "id": "5ce_yM20DUKv"
      },
      "source": [
        "Примечание: 1000 итераций здесь указаны для этого задания, на самом деле их может быть намного больше, нет детерменированного значения."
      ]
    },
    {
      "cell_type": "markdown",
      "metadata": {
        "id": "y3IdiHm9DUKv"
      },
      "source": [
        "Вам необходимо реализовать координатный спуск, и вывести веса в модели линейной регрессии."
      ]
    },
    {
      "cell_type": "code",
      "execution_count": 7,
      "metadata": {
        "id": "Vsi3d9OfDUKw"
      },
      "outputs": [
        {
          "name": "stdout",
          "output_type": "stream",
          "text": [
            "Значение функции потерь: [6.94871853e-10]\n",
            "Вектор весов:\n",
            " [[ 41.56224451]\n",
            " [110.13144649]\n",
            " [ 73.5286098 ]\n",
            " [ -0.55012919]]\n",
            "Количество итераций: 54\n"
          ]
        }
      ],
      "source": [
        "def coordinate_descent(X, y, num_iters=1000, precision=1e-9):\n",
        "    # нулевой вектор весов\n",
        "    n = X.shape[1]\n",
        "    w = np.zeros((n, 1))\n",
        "    iteration_count = num_iters\n",
        "\n",
        "    for i in range(num_iters):\n",
        "        for j in range(n):\n",
        "            # Вычисляем прогноз без j-ого фактора\n",
        "            h = (X[:, 0:j] @ w[0:j]) + (X[:, j+1:] @ w[j+1:])\n",
        "            # Обновляем новое значение k-ого коэффициента\n",
        "            w[j] =  (X[:,j].T @ (y - h))\n",
        "        \n",
        "        # Вычисляем функцию потерь    \n",
        "        r = sum((X@w) - y) ** 2/(len(y))\n",
        "        # если достигли заданной точности, выходим из цикла\n",
        "        if r < precision:\n",
        "            iteration_count = i + 1 # количество итераций\n",
        "            break\n",
        "        \n",
        "    return w, r, iteration_count\n",
        "    \n",
        "w, cost, iters = coordinate_descent(X, y)   \n",
        "print(f'Значение функции потерь: {cost}')\n",
        "print(f'Вектор весов:\\n {w}')\n",
        "print(f'Количество итераций: {iters}')"
      ]
    },
    {
      "cell_type": "code",
      "execution_count": 8,
      "metadata": {},
      "outputs": [
        {
          "name": "stdout",
          "output_type": "stream",
          "text": [
            "Среднеквадратичная ошибка: 2.7841263145213304\n",
            "Средняя абсолютная ошибка: 1.252010718242513\n"
          ]
        }
      ],
      "source": [
        "from sklearn.metrics import mean_squared_error, mean_absolute_error\n",
        "mse = mean_squared_error(y, (X@w))\n",
        "print(f'Среднеквадратичная ошибка: {mse}')\n",
        "mae = mean_absolute_error(y, (X@w))\n",
        "print(f'Средняя абсолютная ошибка: {mae}')"
      ]
    },
    {
      "cell_type": "markdown",
      "metadata": {
        "id": "a3jG-7UADUKx"
      },
      "source": [
        "Сравните результаты с реализацией линейной регрессии из библиотеки sklearn:"
      ]
    },
    {
      "cell_type": "code",
      "execution_count": 9,
      "metadata": {
        "id": "SBl-1Yb5DUKy"
      },
      "outputs": [
        {
          "name": "stdout",
          "output_type": "stream",
          "text": [
            "[[ 41.56217205 110.13144155  73.52860638  -0.55006384]]\n"
          ]
        }
      ],
      "source": [
        "from sklearn.linear_model import LinearRegression\n",
        " \n",
        "model = LinearRegression(fit_intercept=False)\n",
        "model.fit(X, y)\n",
        " \n",
        "print(model.coef_)"
      ]
    },
    {
      "cell_type": "markdown",
      "metadata": {
        "id": "hIl0AGLyDUKy"
      },
      "source": [
        "Коэффициенты совпадают с точностью до тысячных. Для расчета достаточно порядка 50 итераций."
      ]
    },
    {
      "cell_type": "markdown",
      "metadata": {
        "id": "VCGwFnPdDUKz"
      },
      "source": [
        "## Стохастический градиентный спуск (6 баллов)"
      ]
    },
    {
      "cell_type": "markdown",
      "metadata": {
        "id": "5u7Q2YJla_Xk"
      },
      "source": [
        "**Отмасштабируйте столбцы исходной матрицы *X* (которую мы не нормализовали еще!). Для того, чтобы это сделать, надо вычесть из каждого значения среднее и разделить на стандартное отклонение** (0.5 баллов)"
      ]
    },
    {
      "cell_type": "code",
      "execution_count": 10,
      "metadata": {
        "id": "9cEpV_5La_Xo"
      },
      "outputs": [],
      "source": [
        "X = np.array(data.drop('sales', axis=1))\n",
        "y = np.array(data['sales']).reshape(200, 1)\n",
        "\n",
        "X = (X-X.mean())/X.std()"
      ]
    },
    {
      "cell_type": "markdown",
      "metadata": {
        "id": "8WkNYILHDUK1"
      },
      "source": [
        "**Добавим единичный столбец**"
      ]
    },
    {
      "cell_type": "code",
      "execution_count": 11,
      "metadata": {
        "id": "EVl5tEGtDUK1"
      },
      "outputs": [],
      "source": [
        "X = np.hstack([np.ones(X.shape[0]).reshape(-1, 1), X])"
      ]
    },
    {
      "cell_type": "markdown",
      "metadata": {
        "id": "m53tZA5fDUK1"
      },
      "source": [
        "**Создайте функцию mse_error для вычисления среднеквадратичной ошибки, принимающую два аргумента: реальные значения и предсказывающие, и возвращающую значение mse** (0.5 балла)"
      ]
    },
    {
      "cell_type": "code",
      "execution_count": 12,
      "metadata": {
        "id": "0cvtC08Aa_YK"
      },
      "outputs": [],
      "source": [
        "def mse_error(y, y_pred):\n",
        "    mse = ((y - y_pred) ** 2).mean()\n",
        "    return mse"
      ]
    },
    {
      "cell_type": "markdown",
      "metadata": {
        "id": "lpOLhdvBDUK2"
      },
      "source": [
        "**Сделайте наивный прогноз: предскажите продажи средним значением. После этого рассчитайте среднеквадратичную ошибку для этого прогноза** (0.5 балла)"
      ]
    },
    {
      "cell_type": "code",
      "execution_count": 13,
      "metadata": {
        "id": "kLV_XljVa_YZ"
      },
      "outputs": [
        {
          "name": "stdout",
          "output_type": "stream",
          "text": [
            "27.085743750000002\n"
          ]
        }
      ],
      "source": [
        "y_mean = np.ones((200, 1))*y.mean()\n",
        "print(mse_error(y, y_mean))"
      ]
    },
    {
      "cell_type": "markdown",
      "metadata": {
        "id": "BbybL2ola_ZM"
      },
      "source": [
        "**Создайте функцию *lin_pred*, которая может по матрице предикторов *X* и вектору весов линейной модели *w* получить вектор прогнозов** (0.5 балла)"
      ]
    },
    {
      "cell_type": "code",
      "execution_count": 14,
      "metadata": {
        "id": "1Cyz-Luaa_ZO"
      },
      "outputs": [],
      "source": [
        "def lin_pred(X, w):\n",
        "    return X@w"
      ]
    },
    {
      "cell_type": "markdown",
      "metadata": {
        "id": "BU4adBrya_Zm"
      },
      "source": [
        "**Создайте функцию *stoch_grad_step* для реализации шага стохастического градиентного спуска. (1.5 балла) \n",
        "Функция должна принимать на вход следующие аргументы:**\n",
        "* матрицу *X*\n",
        "* вектора *y* и *w*\n",
        "* число *train_ind* - индекс объекта обучающей выборки (строки матрицы *X*), по которому считается изменение весов\n",
        "* число *$\\eta$* (eta) - шаг градиентного спуска\n",
        "\n",
        "Результатом будет вектор обновленных весов"
      ]
    },
    {
      "cell_type": "markdown",
      "metadata": {
        "id": "dyLY-P02DUK5"
      },
      "source": [
        "Шаг для стохастического градиентного спуска выглядит следующим образом:"
      ]
    },
    {
      "cell_type": "markdown",
      "metadata": {
        "id": "ORsAyIKNDUK5"
      },
      "source": [
        "$$\\Large w_j \\leftarrow w_j - \\frac{2\\eta}{\\ell} \\sum_{i=1}^\\ell{{x_{ij}((w_0 + w_1x_{i1} + w_2x_{i2} +  w_3x_{i3}) - y_i)}}$$"
      ]
    },
    {
      "cell_type": "markdown",
      "metadata": {
        "id": "CQl2FrpuDUK6"
      },
      "source": [
        "Для того, чтобы написать функцию, нужно сделать следующее:\n",
        "    \n",
        "*  посчитать направление изменения: умножить объект обучающей выборки на 2 и на разницу между предсказанным значением и реальным, а потом поделить на количество элементов в выборке.\n",
        "* вернуть разницу между вектором весов и направлением изменения, умноженным на шаг градиентного спуска"
      ]
    },
    {
      "cell_type": "code",
      "execution_count": 15,
      "metadata": {
        "id": "YUhVQGsja_Zn"
      },
      "outputs": [],
      "source": [
        "def stoch_grad_step(X, y, w, train_index, eta):\n",
        "    \n",
        "    y = y.reshape(200, 1)\n",
        "    # Compute the prediction for the selected instance\n",
        "    y_pred_train = lin_pred(X[train_index].reshape(1, -1), w)\n",
        "\n",
        "    # Calculate the gradient direction for the selected instance\n",
        "    w_new = w - 2 * eta * (X[train_index] * (y_pred_train - y[train_index, 0]) / len(X))\n",
        "    \n",
        "    return w_new"
      ]
    },
    {
      "cell_type": "markdown",
      "metadata": {
        "id": "pXwIFd0Ma_Zx"
      },
      "source": [
        "**Создайте функцию *stochastic_gradient_descent*, для реализации стохастического градиентного спуска (2.5 балла)**\n",
        "\n",
        "**Функция принимает на вход следующие аргументы:**\n",
        "- Матрицу признаков X\n",
        "- Целевую переменнную\n",
        "- Изначальную точку (веса модели)\n",
        "- Параметр, определяющий темп обучения\n",
        "- Максимальное число итераций\n",
        "- Евклидово расстояние между векторами весов на соседних итерациях градиентного спуска,при котором алгоритм прекращает работу \n",
        "\n",
        "**На каждой итерации в вектор (список) должно записываться текущее значение среднеквадратичной ошибки. Функция должна возвращать вектор весов $w$, а также вектор (список) ошибок.**"
      ]
    },
    {
      "cell_type": "markdown",
      "metadata": {
        "id": "ZVeoNF1JDUK7"
      },
      "source": [
        "Алгоритм сследующий:\n",
        "    \n",
        "* Инициализируйте расстояние между векторами весов на соседних итерациях большим числом (можно бесконечностью)\n",
        "* Создайте пустой список для фиксации ошибок\n",
        "* Создайте счетчик итераций\n",
        "* Реализуйте основной цикл обучения пока расстояние между векторами весов больше того, при котором надо прекратить работу (когда расстояния станут слишком маленькими - значит, мы застряли в одном месте) и количество итераций меньше максимально разрешенного: сгенерируйте случайный индекс, запишите текущую ошибку в вектор ошибок, запишите в переменную текущий шаг стохастического спуска с использованием функции, написанной ранее. Далее рассчитайте текущее расстояние между векторами весов и прибавьте к счетчику итераций 1.\n",
        "* Верните вектор весов и вектор ошибок"
      ]
    },
    {
      "cell_type": "code",
      "execution_count": 16,
      "metadata": {
        "id": "CD_xcFNfa_Zy"
      },
      "outputs": [],
      "source": [
        "def stochastic_gradient_descent(X, y, w, eta, max_iter=100000, eps=1e-5):\n",
        "    errors = [] # список для ошибок\n",
        "    w_dist = 10000 # расстояние между векторами весов\n",
        "    i = 0 # счетчик итераций\n",
        "    \n",
        "    while True:\n",
        "        # случайный индекс\n",
        "        k = np.random.randint(X.shape[0])\n",
        "        # шаг стохастического спуска\n",
        "        w_curr = stoch_grad_step(X, y, w, k, eta)\n",
        "        i += 1\n",
        "        # расстояние между векторами весов, новым и предыдущим\n",
        "        w_dist = np.linalg.norm(w - w_curr)\n",
        "        # обновление вектора весов\n",
        "        w = w_curr\n",
        "        # текущая ошибка\n",
        "        r = mse_error(y, lin_pred(X, w))\n",
        "        #r = mean_squared_error(y, lin_pred(X, w))\n",
        "        errors.append(r)\n",
        "        # если достигли заданной точности или максимального числа итераций, выходим из цикла\n",
        "        if w_dist<=eps or i>=max_iter:\n",
        "            break\n",
        "        \n",
        "    return (w, errors)"
      ]
    },
    {
      "cell_type": "markdown",
      "metadata": {
        "id": "0OqHO1Rta_Z7"
      },
      "source": [
        " **Запустите $10^5$ итераций стохастического градиентного спуска. Укажите вектор начальных весов, состоящий из нулей. Можете поэкспериментировать с параметром, отвечающим за темп обучения.**"
      ]
    },
    {
      "cell_type": "code",
      "execution_count": 25,
      "metadata": {},
      "outputs": [
        {
          "name": "stdout",
          "output_type": "stream",
          "text": [
            "Среднеквадратичная ошибка минимальна: 2.830 при темпе обучения: 1.15\n"
          ]
        }
      ],
      "source": [
        "# нулевой вектор весов\n",
        "n = X.shape[1]\n",
        "w0 = np.zeros(n)\n",
        "\n",
        "# будем сравнивать среднеквадратичные ошибки на последней итерации при различных темпах обучения\n",
        "errors = {}\n",
        "for eta in np.arange(0.05, 1.4, 0.05):\n",
        "    # запускаем стохастический градиентный спуск при текущем параметре eta\n",
        "    w, mse = stochastic_gradient_descent(X, y, w0, eta)\n",
        "    errors[mse[-1]] = eta\n",
        "\n",
        "# выбираем темп, давший наименьшую mse\n",
        "eta_min = round(errors[min(errors.keys())], 2)    \n",
        "print(f'Среднеквадратичная ошибка минимальна: {min(errors.keys()):.3f} при темпе обучения: {eta_min}')"
      ]
    },
    {
      "cell_type": "code",
      "execution_count": 26,
      "metadata": {},
      "outputs": [
        {
          "name": "stdout",
          "output_type": "stream",
          "text": [
            "Среднеквадратичная ошибка: 2.937\n",
            "Вектор весов: [17.71179873  3.78762443 13.09074555  0.34236894]\n",
            "Число итераций: 8906\n"
          ]
        }
      ],
      "source": [
        "w, error = stochastic_gradient_descent(X, y, w0, eta_min)\n",
        "print(f'Среднеквадратичная ошибка: {error[-1]:.3f}')\n",
        "print(f'Вектор весов: {w}')\n",
        "print(f'Число итераций: {len(error)}')"
      ]
    },
    {
      "cell_type": "markdown",
      "metadata": {
        "id": "N6fHHT6vDUK8"
      },
      "source": [
        "**Постройте график зависимости ошибки от номера итерации**"
      ]
    },
    {
      "cell_type": "code",
      "execution_count": 27,
      "metadata": {
        "id": "zsSfHDzLDUK9"
      },
      "outputs": [
        {
          "data": {
            "image/png": "[encoded data removed]",
            "text/plain": [
              "<Figure size 1000x400 with 1 Axes>"
            ]
          },
          "metadata": {},
          "output_type": "display_data"
        }
      ],
      "source": [
        "fig = plt.figure(figsize=(10, 4))\n",
        "axes = fig.add_axes([0, 0, 1, 1])\n",
        "#iters = np.arange(1, len(errors)+1)\n",
        "axes.plot(error, lw=3)\n",
        "#установка параметров отображения\n",
        "axes.set_title('Зависимость ошибки от номера итерации', fontsize=16)\n",
        "axes.set_xlabel('номер итерации')\n",
        "axes.set_ylabel('среднеквадратичная ошибка')\n",
        "axes.set_xticks(range(0, len(error), 1000))\n",
        "#axes.xaxis.set_tick_params(rotation=30)\n",
        "axes.grid()"
      ]
    },
    {
      "cell_type": "markdown",
      "metadata": {
        "id": "O-MVOcJ6a_aY"
      },
      "source": [
        "**Выведите вектор весов, к которому сошелся метод.**"
      ]
    },
    {
      "cell_type": "code",
      "execution_count": 31,
      "metadata": {
        "id": "MPjVkXe4DUK9"
      },
      "outputs": [
        {
          "name": "stdout",
          "output_type": "stream",
          "text": [
            "Вектор весов: [17.71179873  3.78762443 13.09074555  0.34236894]\n"
          ]
        }
      ],
      "source": [
        "print(f'Вектор весов: {w}')"
      ]
    },
    {
      "cell_type": "markdown",
      "metadata": {
        "id": "qabzMc3Qa_a5"
      },
      "source": [
        "**Выведите среднеквадратичную ошибку на последней итерации.**"
      ]
    },
    {
      "cell_type": "code",
      "execution_count": 28,
      "metadata": {
        "id": "7tPWleMIa_a7"
      },
      "outputs": [
        {
          "name": "stdout",
          "output_type": "stream",
          "text": [
            "Среднеквадратичная ошибка: 2.937\n"
          ]
        }
      ],
      "source": [
        "print(f'Среднеквадратичная ошибка: {error[-1]:.3f}')"
      ]
    },
    {
      "cell_type": "code",
      "execution_count": 29,
      "metadata": {},
      "outputs": [
        {
          "name": "stdout",
          "output_type": "stream",
          "text": [
            "Среднеквадратичная ошибка: 2.937\n",
            "Средняя абсолютная ошибка: 1.305\n"
          ]
        }
      ],
      "source": [
        "from sklearn.metrics import mean_squared_error, mean_absolute_error\n",
        "mse = mean_squared_error(y, lin_pred(X, w))\n",
        "print(f'Среднеквадратичная ошибка: {mse:.3f}')\n",
        "mae = mean_absolute_error(y, lin_pred(X, w))\n",
        "print(f'Средняя абсолютная ошибка: {mae:.3f}')"
      ]
    },
    {
      "cell_type": "markdown",
      "metadata": {},
      "source": [
        "## Бонусное задание"
      ]
    },
    {
      "cell_type": "markdown",
      "metadata": {},
      "source": [
        "**Выберите в документации класс, подходящий для вашей задачи, и обучите стохастический градиентный спуск.\n",
        "Оцените качество с помощью среднеквадратичной ошибки и сравните результат с результатом алгоритма, реализованного вами самостоятельно.\n",
        "В одном из предыдущих модулей качество решения задачи регрессии оценивалось с помощью ещё одной метрики. Найдите её реализацию в библиотеке sklearn и оцените качество полученной модели.**"
      ]
    },
    {
      "cell_type": "code",
      "execution_count": 37,
      "metadata": {},
      "outputs": [
        {
          "name": "stdout",
          "output_type": "stream",
          "text": [
            "Вектор весов: [17.09314062  3.50176412 10.99678286  1.08150916]\n",
            "Число итераций: 533\n",
            "Среднеквадратичная ошибка: 3.541\n",
            "Средняя абсолютная ошибка: 1.531\n",
            "MAPE на тренировочных фолдах: 13.29 %\n",
            "MAPE на валидационных фолдах: 14.10 %\n"
          ]
        }
      ],
      "source": [
        "from sklearn.linear_model import SGDRegressor\n",
        "from sklearn.model_selection import train_test_split\n",
        "from sklearn.model_selection import cross_validate\n",
        "\n",
        "# исправим размерность y\n",
        "y = y.reshape(200)\n",
        "\n",
        "# разделим данные на тренировочные и тестовые\n",
        "X_train, X_test, y_train, y_test = train_test_split(X, y, test_size=0.2, random_state=42)\n",
        "\n",
        "# модель стохастического градиентного спуска SGDRegressor \n",
        "model = SGDRegressor(fit_intercept=False)\n",
        "model.fit(X_train, y_train)\n",
        "print(f'Вектор весов: {model.coef_}')\n",
        "print(f'Число итераций: {model.n_iter_}')\n",
        "\n",
        "# оценки качества модели\n",
        "y_pred = model.predict(X_test)\n",
        "mse = mean_squared_error(y_test, y_pred)\n",
        "print(f'Среднеквадратичная ошибка: {mse:.3f}')\n",
        "mae = mean_absolute_error(y_test, y_pred)\n",
        "print(f'Средняя абсолютная ошибка: {mae:.3f}')\n",
        "\n",
        "# среднее значение метрики MAPE, кросс-валидация на пяти фолдах\n",
        "cv_results = cross_validate(model, X, y, scoring='neg_mean_absolute_percentage_error', cv=5, return_train_score=True)\n",
        "print('MAPE на тренировочных фолдах: {:.2f} %'.format(-cv_results['train_score'].mean()* 100))\n",
        "print('MAPE на валидационных фолдах: {:.2f} %'.format(-cv_results['test_score'].mean() * 100))\n"
      ]
    },
    {
      "cell_type": "code",
      "execution_count": 38,
      "metadata": {},
      "outputs": [
        {
          "name": "stdout",
          "output_type": "stream",
          "text": [
            "Расстояние между полученными векторам коэффициентов: 2.323\n"
          ]
        }
      ],
      "source": [
        "print(f'Расстояние между полученными векторам коэффициентов: {np.linalg.norm(w-model.coef_):.3f}')"
      ]
    },
    {
      "cell_type": "markdown",
      "metadata": {},
      "source": [
        "### Выводы\n",
        "\n",
        "Реализованы координатный спуск и стохастический градиентный спуск. Также с использованием библиотеки sklearn обучена модель стохастического градиентного спуска SGDRegressor. Готовая реализация дает стабильный результат весов и достаточно малые ошибки MSE и MAE. Значения метрики MAPE на тренировочных и валидационных фолдах не отличаются значительно. При этом в настройках модели использованы значения параметров по умолчанию, метод дает возможность подбирать параметры для более точных результатов. \n",
        "\n",
        "Алгоритм координатного спуска, реализованный в домашней работе, показывает хорошее качество. Коэффициенты, полученные в этой модели и в готовой модели линейной регрессии из sklearn, совпадают с точностью до тысячных. Для расчета достаточно чуть больше 50 итераций.\n",
        "\n",
        "Результаты алгоритма стохастического градиентного спуска непостоянны, по-видимому, из-за большой степени случайности. Количество итераций и среднеквадратичная ошибка разнятся при повтором запуске ячейки кода. Наблюдается некоторое расхождение между коэффициентами этой модели и модели готового алгоритма SGDRegressor. Возможно, неточности связаны с тем, что в реализованном алгоритме не масштабируется параметр eta и обучающие данные не перетасовываются после каждой эпохи, в отличие от SGDRegressor, где это установлено по умолчанию. Тем не менее, с помошью такого довольно простого алгоритма возможно получить неплохую точность результата: ошибки MSE и MAE того же порядка, что при применении sklearn.\n"
      ]
    }
  ],
  "metadata": {
    "colab": {
      "collapsed_sections": [],
      "name": "Практика_Оптимизация.ipynb",
      "provenance": [],
      "toc_visible": true
    },
    "kernelspec": {
      "display_name": "Python 3 (ipykernel)",
      "language": "python",
      "name": "python3"
    },
    "language_info": {
      "codemirror_mode": {
        "name": "ipython",
        "version": 3
      },
      "file_extension": ".py",
      "mimetype": "text/x-python",
      "name": "python",
      "nbconvert_exporter": "python",
      "pygments_lexer": "ipython3",
      "version": "3.9.10"
    }
  },
  "nbformat": 4,
  "nbformat_minor": 0
}
